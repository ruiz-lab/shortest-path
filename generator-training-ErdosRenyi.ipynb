{
 "cells": [
  {
   "cell_type": "code",
   "execution_count": null,
   "metadata": {},
   "outputs": [],
   "source": [
    "import numpy as np\n",
    "import os\n",
    "import pickle\n",
    "\n",
    "from Models import generateSamples_training_ErdosRenyi\n",
    "\n",
    "dir = os.path.dirname(os.getcwd())+'/samples'\n",
    "if not os.path.exists(dir):\n",
    "    os.makedirs(dir)\n",
    "\n",
    "sample_dir = dir + '/ErdosRenyi_lambda_div_size'\n",
    "if not os.path.exists(sample_dir):\n",
    "    os.makedirs(sample_dir)"
   ]
  },
  {
   "cell_type": "code",
   "execution_count": null,
   "metadata": {},
   "outputs": [],
   "source": [
    "for n in [25]+list(2**np.array(range(8))*50):\n",
    "    for lbd in [6,5,4,3]:\n",
    "        \n",
    "        title = 'n = '+str(n)+', lambda = '+str(lbd)\n",
    "        print(title)\n",
    "\n",
    "        p = sample_dir+'/ErdosRenyi_training_'+str(n)+'_'+str(lbd)+'.pkl'\n",
    "        if os.path.exists(p):\n",
    "            try:\n",
    "                with open(p, 'rb') as file:\n",
    "                    samples = pickle.load(file)\n",
    "            except:\n",
    "                samples = generateSamples_training_ErdosRenyi(sample_dir,title,200,50,50,n,lbd)\n",
    "                with open(p, 'wb') as file:\n",
    "                    pickle.dump(samples, file)\n",
    "        else:\n",
    "            samples = generateSamples_training_ErdosRenyi(sample_dir,title,200,50,50,n,lbd)\n",
    "            with open(p, 'wb') as file:\n",
    "                pickle.dump(samples, file)"
   ]
  }
 ],
 "metadata": {
  "kernelspec": {
   "display_name": "Python 3",
   "language": "python",
   "name": "python3"
  },
  "language_info": {
   "codemirror_mode": {
    "name": "ipython",
    "version": 3
   },
   "file_extension": ".py",
   "mimetype": "text/x-python",
   "name": "python",
   "nbconvert_exporter": "python",
   "pygments_lexer": "ipython3",
   "version": "3.11.5"
  }
 },
 "nbformat": 4,
 "nbformat_minor": 2
}
