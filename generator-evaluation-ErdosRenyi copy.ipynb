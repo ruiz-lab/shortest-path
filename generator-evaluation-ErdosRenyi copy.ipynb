{
 "cells": [
  {
   "cell_type": "code",
   "execution_count": null,
   "metadata": {},
   "outputs": [],
   "source": [
    "import numpy as np\n",
    "import os\n",
    "import pickle\n",
    "\n",
    "from Evaluations import generateSamples_evaluation_ErdosRenyi,revisePairs,reviseSeedSets\n",
    "\n",
    "dir = os.path.dirname(os.getcwd())+'/samples'\n",
    "if not os.path.exists(dir):\n",
    "    os.makedirs(dir)"
   ]
  },
  {
   "cell_type": "code",
   "execution_count": null,
   "metadata": {},
   "outputs": [],
   "source": [
    "sample_dir = dir + '/ErdosRenyi_lambda_div_size'\n",
    "if not os.path.exists(sample_dir):\n",
    "    os.makedirs(sample_dir)\n",
    "\n",
    "for n in [25]+list(2**np.array(range(6))*50):\n",
    "    for lbd in [3,4,5,6]:\n",
    "    \n",
    "        title = 'n = '+str(n)+', lambda = '+str(lbd)\n",
    "        print(title)\n",
    "        \n",
    "        p = sample_dir+'/ErdosRenyi_evaluation_'+str(n)+'_'+str(lbd)+'.pkl'\n",
    "        if os.path.exists(p):\n",
    "            try:\n",
    "                with open(p, 'rb') as file:\n",
    "                    samples = pickle.load(file)\n",
    "            except:\n",
    "                samples = generateSamples_evaluation_ErdosRenyi(100,4,n,lbd)\n",
    "        else:\n",
    "            samples = generateSamples_evaluation_ErdosRenyi(100,4,n,lbd)\n",
    "\n",
    "        samples = revisePairs(samples)\n",
    "        if len(samples[3]) != 6:\n",
    "            samples = samples[0],samples[1],samples[2],[None]*6,samples[4],samples[5],samples[6]\n",
    "        if samples[3][0] == None:\n",
    "            print('Calculating degree centrality...')\n",
    "            samples = reviseSeedSets(samples,centralities=['degree'])\n",
    "            with open(p, 'wb') as file:\n",
    "                pickle.dump(samples, file)\n",
    "        if samples[3][1] == None:\n",
    "            print('Calculating closeness centrality...')\n",
    "            samples = reviseSeedSets(samples,centralities=['closeness'])\n",
    "            with open(p, 'wb') as file:\n",
    "                pickle.dump(samples, file)\n",
    "        if samples[3][2] == None:\n",
    "            print('Calculating betweenness centrality...')\n",
    "            samples = reviseSeedSets(samples,centralities=['betweenness'])\n",
    "            with open(p, 'wb') as file:\n",
    "                pickle.dump(samples, file)\n",
    "        # if samples[3][3] == None:\n",
    "        #     print('Calculating harmonic centrality...')\n",
    "        #     samples = reviseSeedSets(samples,centralities=['harmonic'])\n",
    "        #     with open(p, 'wb') as file:\n",
    "        #         pickle.dump(samples, file)\n",
    "        # if samples[3][4] == None:\n",
    "        #     print('Calculating laplacian centrality...')\n",
    "        #     samples = reviseSeedSets(samples,centralities=['laplacian'])\n",
    "        #     with open(p, 'wb') as file:\n",
    "        #         pickle.dump(samples, file)\n",
    "        if samples[3][5] == None:\n",
    "            print('Calculating pagerank centrality...')\n",
    "            samples = reviseSeedSets(samples,centralities=['pagerank'])\n",
    "        with open(p, 'wb') as file:\n",
    "            pickle.dump(samples, file)"
   ]
  }
 ],
 "metadata": {
  "kernelspec": {
   "display_name": "Python 3",
   "language": "python",
   "name": "python3"
  },
  "language_info": {
   "codemirror_mode": {
    "name": "ipython",
    "version": 3
   },
   "file_extension": ".py",
   "mimetype": "text/x-python",
   "name": "python",
   "nbconvert_exporter": "python",
   "pygments_lexer": "ipython3",
   "version": "3.11.5"
  }
 },
 "nbformat": 4,
 "nbformat_minor": 2
}
